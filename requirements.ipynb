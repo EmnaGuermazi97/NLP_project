{
 "cells": [
  {
   "cell_type": "code",
   "execution_count": null,
   "metadata": {},
   "outputs": [],
   "source": [
    "pip install newspaper3K \n",
    "pip install facebook_scraper\n",
    "pip install matplotlib\n",
    "pip install numpy\n",
    "pip install pandas\n",
    "pip install csv\n",
    "pip install nltk        \n",
    "pip install textblob \n",
    "pip install tensorflow\n",
    "pip install keras\n",
    "pip install Flask-Scss"
   ]
  }
 ],
 "metadata": {
  "kernelspec": {
   "display_name": "Python 3",
   "language": "python",
   "name": "python3"
  },
  "language_info": {
   "codemirror_mode": {
    "name": "ipython",
    "version": 3
   },
   "file_extension": ".py",
   "mimetype": "text/x-python",
   "name": "python",
   "nbconvert_exporter": "python",
   "pygments_lexer": "ipython3",
   "version": "3.8.5"
  }
 },
 "nbformat": 4,
 "nbformat_minor": 4
}
