{
 "cells": [
  {
   "cell_type": "code",
   "execution_count": 1,
   "metadata": {},
   "outputs": [
    {
     "name": "stdout",
     "output_type": "stream",
     "text": [
      "Requirement already satisfied: Flask-Scss in c:\\programdata\\anaconda3\\lib\\site-packages (0.5)\n",
      "Requirement already satisfied: Flask in c:\\programdata\\anaconda3\\lib\\site-packages (from Flask-Scss) (1.1.2)\n",
      "Requirement already satisfied: pyScss in c:\\programdata\\anaconda3\\lib\\site-packages (from Flask-Scss) (1.3.7)\n",
      "Requirement already satisfied: Werkzeug>=0.15 in c:\\programdata\\anaconda3\\lib\\site-packages (from Flask->Flask-Scss) (1.0.1)\n",
      "Requirement already satisfied: Jinja2>=2.10.1 in c:\\programdata\\anaconda3\\lib\\site-packages (from Flask->Flask-Scss) (2.11.2)\n",
      "Requirement already satisfied: click>=5.1 in c:\\programdata\\anaconda3\\lib\\site-packages (from Flask->Flask-Scss) (7.1.2)\n",
      "Requirement already satisfied: itsdangerous>=0.24 in c:\\programdata\\anaconda3\\lib\\site-packages (from Flask->Flask-Scss) (1.1.0)\n",
      "Requirement already satisfied: six in c:\\programdata\\anaconda3\\lib\\site-packages (from pyScss->Flask-Scss) (1.15.0)\n",
      "Requirement already satisfied: MarkupSafe>=0.23 in c:\\programdata\\anaconda3\\lib\\site-packages (from Jinja2>=2.10.1->Flask->Flask-Scss) (1.1.1)\n",
      "Note: you may need to restart the kernel to use updated packages.\n"
     ]
    }
   ],
   "source": [
    "pip install Flask-Scss"
   ]
  },
  {
   "cell_type": "code",
   "execution_count": 2,
   "metadata": {},
   "outputs": [
    {
     "name": "stderr",
     "output_type": "stream",
     "text": [
      "[nltk_data] Downloading package punkt to\n",
      "[nltk_data]     C:\\Users\\Lenovo\\AppData\\Roaming\\nltk_data...\n",
      "[nltk_data]   Package punkt is already up-to-date!\n",
      "[nltk_data] Downloading package wordnet to\n",
      "[nltk_data]     C:\\Users\\Lenovo\\AppData\\Roaming\\nltk_data...\n",
      "[nltk_data]   Package wordnet is already up-to-date!\n",
      "[nltk_data] Downloading package stopwords to\n",
      "[nltk_data]     C:\\Users\\Lenovo\\AppData\\Roaming\\nltk_data...\n",
      "[nltk_data]   Package stopwords is already up-to-date!\n"
     ]
    }
   ],
   "source": [
    "%run cleaning_for_flask.ipynb\n"
   ]
  },
  {
   "cell_type": "code",
   "execution_count": null,
   "metadata": {},
   "outputs": [],
   "source": [
    "import pickle\n",
    "import numpy as np\n",
    "\n",
    "#Step 1- Flask Instantiation \n",
    "from flask import Flask, render_template, request, redirect, url_for\n",
    "app=Flask('NLP Project')\n",
    "\n",
    "#Step 2- JOBLIB importation\n",
    "from joblib import load\n",
    "\n",
    "#Step 3- loading the model\n",
    "\n",
    "pipeline = load(\"text_classification.joblib\")\n",
    "\n",
    "#Step 4- Setting up Routes\n",
    "@app.route('/')\n",
    "def index():\n",
    "    return render_template('request.html')\n",
    "@app.route('/', methods=['POST'])\n",
    "\n",
    "def response():\n",
    "    if request.method == 'POST':\n",
    "        text = request.form['text_to_do']\n",
    "    noSpecialChars = preprocess_text(text)\n",
    "    print(noSpecialChars)    \n",
    "\n",
    "    # get the prediction\n",
    "    if(str(pipeline.predict([noSpecialChars])) == \"[0]\") : \n",
    "        prediction = \"this article will reassure people\"\n",
    "    elif (str(pipeline.predict([noSpecialChars])) == \"[1]\") :\n",
    "        prediction = \"this article will most likely make people anxious\"\n",
    "        \n",
    "    elif (str(pipeline.predict([noSpecialChars])) == \"[2]\") :\n",
    "        prediction = \"this article is neutral\"\n",
    "\n",
    "    return render_template('request.html', value=prediction)\n",
    "\n",
    "app.run(port='5000', debug=True)\n",
    "#app.run(\"127.0.0.1\",\"5000\")"
   ]
  },
  {
   "cell_type": "code",
   "execution_count": null,
   "metadata": {},
   "outputs": [],
   "source": []
  }
 ],
 "metadata": {
  "kernelspec": {
   "display_name": "Python 3",
   "language": "python",
   "name": "python3"
  },
  "language_info": {
   "codemirror_mode": {
    "name": "ipython",
    "version": 3
   },
   "file_extension": ".py",
   "mimetype": "text/x-python",
   "name": "python",
   "nbconvert_exporter": "python",
   "pygments_lexer": "ipython3",
   "version": "3.8.5"
  }
 },
 "nbformat": 4,
 "nbformat_minor": 4
}
